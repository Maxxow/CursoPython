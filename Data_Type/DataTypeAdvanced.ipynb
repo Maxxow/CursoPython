{
 "cells": [
  {
   "cell_type": "markdown",
   "id": "a7cd06bc-726c-43bb-805c-d1ee3f1d9d59",
   "metadata": {},
   "source": [
    "# Tipos de Datos Avanzados"
   ]
  },
  {
   "cell_type": "markdown",
   "id": "56e664bb-815f-44d3-943c-d631132f7d8f",
   "metadata": {},
   "source": [
    "### Listas"
   ]
  },
  {
   "cell_type": "markdown",
   "id": "9d770e82-289c-4855-8fa3-fab9a9d8df75",
   "metadata": {},
   "source": [
    "Las listas de python respresentadas por el tipo *list*, son colecciones ordenadas y **mutables** de elementos que pueden ser de diferentes tipos de datos. Se definen utilizando corchetes [...] y permiten almacenar, acceder, modificar y eliminar elementos de forma flexible"
   ]
  },
  {
   "cell_type": "code",
   "execution_count": 1,
   "id": "a0b8aa5b-32d2-4ec8-a672-8d2e57d63282",
   "metadata": {},
   "outputs": [
    {
     "name": "stdout",
     "output_type": "stream",
     "text": [
      "El valor de a es [1, 2, 3]\n",
      "El valor de b es [4, 5, 6]\n",
      "El valor de c es [1, 2, 3, 4, 5, 6]\n",
      "---------------------------\n",
      "El tipo de dato de a es <class 'list'>\n",
      "El tipo de dato de b es <class 'list'>\n",
      "El tipo de dato de c es <class 'list'>\n"
     ]
    }
   ],
   "source": [
    "a = [1,2,3]\n",
    "b = [4,5,6]\n",
    "c = a + b\n",
    "print(f\"El valor de a es {a}\")\n",
    "print(f\"El valor de b es {b}\")\n",
    "print(f\"El valor de c es {c}\")\n",
    "print(\"---------------------------\")\n",
    "print(f\"El tipo de dato de a es {type(a)}\")\n",
    "print(f\"El tipo de dato de b es {type(b)}\")\n",
    "print(f\"El tipo de dato de c es {type(c)}\")"
   ]
  },
  {
   "cell_type": "markdown",
   "id": "ea967d3e-53a7-40d4-a5f2-4731314acac9",
   "metadata": {},
   "source": [
    " **Ejemplo: Crear una lista que contenga cada tipo de dato basico**"
   ]
  },
  {
   "cell_type": "code",
   "execution_count": 3,
   "id": "6f7a887c-c81a-437a-ad18-d6965f573518",
   "metadata": {},
   "outputs": [
    {
     "name": "stdout",
     "output_type": "stream",
     "text": [
      "El tipo de la lista es <class 'list'>\n",
      "El valor de la lista es 1 y su tipo de dato es <class 'int'>\n",
      "El valor de la lista es 5.34 y su tipo de dato es <class 'float'>\n",
      "El valor de la lista es True y su tipo de dato es <class 'bool'>\n",
      "El valor de la lista es (1+2j) y su tipo de dato es <class 'complex'>\n",
      "El valor de la lista es Manzana y su tipo de dato es <class 'str'>\n"
     ]
    }
   ],
   "source": [
    "lt=[1, 5.34, True, 1+2j, \"Manzana\"]\n",
    "print(f\"El tipo de la lista es {type(lt)}\")\n",
    "print(f\"El valor de la lista es {lt[0]} y su tipo de dato es {type(lt[0])}\")\n",
    "print(f\"El valor de la lista es {lt[1]} y su tipo de dato es {type(lt[1])}\")\n",
    "print(f\"El valor de la lista es {lt[2]} y su tipo de dato es {type(lt[2])}\")\n",
    "print(f\"El valor de la lista es {lt[3]} y su tipo de dato es {type(lt[3])}\")\n",
    "print(f\"El valor de la lista es {lt[4]} y su tipo de dato es {type(lt[4])}\")"
   ]
  },
  {
   "cell_type": "code",
   "execution_count": null,
   "id": "e0e8611f-4c4b-4240-bc02-fef256260e9d",
   "metadata": {},
   "outputs": [],
   "source": []
  }
 ],
 "metadata": {
  "kernelspec": {
   "display_name": "Python 3 (ipykernel)",
   "language": "python",
   "name": "python3"
  },
  "language_info": {
   "codemirror_mode": {
    "name": "ipython",
    "version": 3
   },
   "file_extension": ".py",
   "mimetype": "text/x-python",
   "name": "python",
   "nbconvert_exporter": "python",
   "pygments_lexer": "ipython3",
   "version": "3.12.7"
  }
 },
 "nbformat": 4,
 "nbformat_minor": 5
}
