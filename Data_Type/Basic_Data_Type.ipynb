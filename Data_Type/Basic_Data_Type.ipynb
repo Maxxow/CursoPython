{
 "cells": [
  {
   "cell_type": "markdown",
   "id": "dff75d47-acbf-4791-b736-7965b838d71a",
   "metadata": {},
   "source": [
    "# Tipos de datos basicos"
   ]
  },
  {
   "cell_type": "markdown",
   "id": "9de7d2e8-aebe-438b-9da8-bbea83a8f9c5",
   "metadata": {},
   "source": [
    "## Datos enteros"
   ]
  },
  {
   "cell_type": "markdown",
   "id": "4a9b9514-4ebe-4f18-8fb0-b4d605a1bcda",
   "metadata": {},
   "source": [
    "Un dato entero en python, representado por el tipo *int*, es un tipo de dato numerico que almacena sin decimales, tanto positivos como negativos, y puede ser de cualquier longitud sin limite de precision."
   ]
  },
  {
   "cell_type": "markdown",
   "id": "7d2cb5cf-3dbe-4901-be39-5dfd1eff2df0",
   "metadata": {},
   "source": [
    "**Ejemplo de uso de variables de tipo int**"
   ]
  },
  {
   "cell_type": "code",
   "execution_count": 1,
   "id": "5a362b24-b1cb-46d3-9a42-506f0581b41a",
   "metadata": {},
   "outputs": [
    {
     "name": "stdout",
     "output_type": "stream",
     "text": [
      "El valor de a es: 4\n",
      "El valor de b es: 7\n",
      "La suma de a y b es: 11\n"
     ]
    }
   ],
   "source": [
    "a = 4\n",
    "b = 7\n",
    "c = a + b\n",
    "print(f\"El valor de a es: {a}\")\n",
    "print(f\"El valor de b es: {b}\")\n",
    "print(f\"La suma de a y b es: {c}\")"
   ]
  },
  {
   "cell_type": "code",
   "execution_count": 2,
   "id": "1ed4dfe4-bbf3-402d-af42-9c8e2292e54a",
   "metadata": {},
   "outputs": [
    {
     "name": "stdout",
     "output_type": "stream",
     "text": [
      "El tipo de a es: <class 'int'>\n",
      "El tipo de b es: <class 'int'>\n",
      "El tipo de c es: <class 'int'>\n"
     ]
    }
   ],
   "source": [
    "print(f\"El tipo de a es: {type(a)}\")\n",
    "print(f\"El tipo de b es: {type(b)}\")\n",
    "print(f\"El tipo de c es: {type(c)}\")"
   ]
  },
  {
   "cell_type": "code",
   "execution_count": 3,
   "id": "9cfbb2b5-580a-4db7-b6bf-8a3333d04d40",
   "metadata": {},
   "outputs": [
    {
     "name": "stdout",
     "output_type": "stream",
     "text": [
      "El valor de a es: 4 \n",
      " Data type: <class 'int'>\n",
      "El valor de b es: 7 \n",
      " Data type: <class 'int'>\n",
      "La suma de a y b es: 11 \n",
      " Data type: <class 'int'>\n"
     ]
    }
   ],
   "source": [
    "print(f\"El valor de a es: {a} \\n Data type: {type(a)}\")\n",
    "print(f\"El valor de b es: {b} \\n Data type: {type(b)}\")\n",
    "print(f\"La suma de a y b es: {c} \\n Data type: {type(c)}\")"
   ]
  },
  {
   "cell_type": "markdown",
   "id": "57408494-cfe5-481b-bb8a-9a8178848f5a",
   "metadata": {},
   "source": [
    "**Calculos con numeros enteros**"
   ]
  },
  {
   "cell_type": "code",
   "execution_count": 4,
   "id": "b5dcfc55-987b-480b-963b-ea7628d5e9e7",
   "metadata": {},
   "outputs": [
    {
     "name": "stdout",
     "output_type": "stream",
     "text": [
      "El valor de suma es 19 \n",
      " y su tipo es: Data type: <class 'int'>\n",
      "El valor de resta es 11 \n",
      " y su tipo es: Data type: <class 'int'>\n",
      "El valor de multiplicacion es 60 \n",
      " y su tipo es: Data type: <class 'int'>\n",
      "El valor de division es 3 \n",
      " y su tipo es: Data type: <class 'int'>\n",
      "El valor de modulo es 3 \n",
      " y su tipo es: Data type: <class 'int'>\n"
     ]
    }
   ],
   "source": [
    "# Definir 2 numeros enteros\n",
    "num1 = 15\n",
    "num2 = 4\n",
    "\n",
    "# Operaciones aritmeticas\n",
    "suma = num1 + num2\n",
    "resta = num1 - num2\n",
    "mult = num1 * num2\n",
    "division_int = num1 // num2 # se usan los // para hacer la division entera entre 2 variables\n",
    "modulo = num1 % num2 # es el residuo de una division\n",
    "\n",
    "# Imprimir resultados\n",
    "print(f\"El valor de suma es {suma} \\n y su tipo es: Data type: {type(suma)}\")\n",
    "print(f\"El valor de resta es {resta} \\n y su tipo es: Data type: {type(resta)}\")\n",
    "print(f\"El valor de multiplicacion es {mult} \\n y su tipo es: Data type: {type(mult)}\")\n",
    "print(f\"El valor de division es {division_int} \\n y su tipo es: Data type: {type(division_int)}\")\n",
    "print(f\"El valor de modulo es {modulo} \\n y su tipo es: Data type: {type(modulo)}\")"
   ]
  },
  {
   "cell_type": "markdown",
   "id": "05f1d364-6542-40cb-a0ff-87b8c3a7c5b3",
   "metadata": {},
   "source": [
    "# Flotantes"
   ]
  },
  {
   "cell_type": "markdown",
   "id": "429f717d-cfdd-44e7-9a15-faf56f061256",
   "metadata": {},
   "source": [
    "Un Flotante en python es representado por el tipo float, es un tipo de dato numerico que almacena valores con decimales, permitiendo numeros fraccionarios y realizar calculos con precision decimal"
   ]
  },
  {
   "cell_type": "markdown",
   "id": "9fa9d401-51b3-4389-8f64-574083d7f107",
   "metadata": {},
   "source": [
    "**Ejemplo de tipo de uso de variables de tipo float**"
   ]
  },
  {
   "cell_type": "code",
   "execution_count": 1,
   "id": "de39e792-c5cb-4d76-b1ff-a7b84bdd1b47",
   "metadata": {},
   "outputs": [
    {
     "name": "stdout",
     "output_type": "stream",
     "text": [
      "El valor de a es: 4\n",
      "El valor de b es: 7.2\n",
      "El valor de c es: 11.2\n",
      "el tipo de a es: <class 'int'>\n",
      "el tipo de b es: <class 'float'>\n",
      "el tipo de c es: <class 'float'>\n"
     ]
    }
   ],
   "source": [
    "a = 4\n",
    "b = 7.2\n",
    "c = a + b \n",
    "print(f\"El valor de a es: {a}\")\n",
    "print(f\"El valor de b es: {b}\")\n",
    "print(f\"El valor de c es: {c}\")\n",
    "print(f\"el tipo de a es: {type(a)}\")\n",
    "print(f\"el tipo de b es: {type(b)}\")\n",
    "print(f\"el tipo de c es: {type(c)}\")"
   ]
  },
  {
   "cell_type": "markdown",
   "id": "898149b1-7cd4-4278-ad88-02bd121f06ab",
   "metadata": {},
   "source": [
    "**Example:  Vamos a convertir grados celsius a fahrenheit**\n",
    "\n",
    "Utilice la siguien formula::\n",
    "$$\n",
    "F = \\frac{9}{5} C+32\n",
    "$$\n"
   ]
  },
  {
   "cell_type": "code",
   "execution_count": 3,
   "id": "961784aa-835c-4fea-81eb-181b5850ee48",
   "metadata": {},
   "outputs": [
    {
     "name": "stdout",
     "output_type": "stream",
     "text": [
      "La temperatura en fahrenheit es 76.1\n",
      "El tipo de dato de la variable fht es <class 'float'>\n",
      "La temperatura en celsius es 24.5\n",
      "El tipo de dato de la variable cs es: <class 'float'>\n"
     ]
    }
   ],
   "source": [
    "cs = 24.5\n",
    "fht = cs * 9 / 5 + 32\n",
    "\n",
    "print(f\"La temperatura en fahrenheit es {fht}\")\n",
    "print(f\"El tipo de dato de la variable fht es {type(fht)}\")\n",
    "print(f\"La temperatura en celsius es {cs}\")\n",
    "print(f\"El tipo de dato de la variable cs es: {type(cs)}\")"
   ]
  },
  {
   "cell_type": "markdown",
   "id": "40226c88-a663-44e0-806f-286813a98c1c",
   "metadata": {},
   "source": [
    "# Complejos"
   ]
  },
  {
   "cell_type": "markdown",
   "id": "743aaa3b-8d09-4c88-b769-d6c4d6d1936a",
   "metadata": {},
   "source": [
    "Un numero complejo en python, representado por el tipo complex, es un tipo de dato numerico que almacena valores con una parte real y una parte imaginaria, permitiendo realizar calculos en el plano complejo, Los numeros complejos se escriben en la forma $ a+bj $ donde $ a $ es la parte real y $ b $ es la parte imaginaria"
   ]
  },
  {
   "cell_type": "markdown",
   "id": "acff64af-e127-4287-a303-573c52d3717c",
   "metadata": {},
   "source": [
    "**Ejemplo de uso de variables de tipo complex**"
   ]
  },
  {
   "cell_type": "code",
   "execution_count": 4,
   "id": "79d1ad61-5a5b-475c-baf0-cbb7c9165d21",
   "metadata": {},
   "outputs": [],
   "source": [
    "z1 = 4 + 2j\n",
    "z2 = 1 + 3j\n",
    "z3 = z1 + z2"
   ]
  },
  {
   "cell_type": "code",
   "execution_count": 5,
   "id": "bfcddbcb-1514-4960-90d3-cbd8750148ad",
   "metadata": {},
   "outputs": [
    {
     "name": "stdout",
     "output_type": "stream",
     "text": [
      "El valor de z1 es (4+2j)\n",
      "El valor de z2 es (1+3j)\n",
      "El valor de z3 es (5+5j)\n"
     ]
    }
   ],
   "source": [
    "print(f\"El valor de z1 es {z1}\")\n",
    "print(f\"El valor de z2 es {z2}\")\n",
    "print(f\"El valor de z3 es {z3}\")"
   ]
  },
  {
   "cell_type": "code",
   "execution_count": 6,
   "id": "d0e400f5-499d-470e-be9c-2a6a01c4dada",
   "metadata": {},
   "outputs": [
    {
     "name": "stdout",
     "output_type": "stream",
     "text": [
      "El tipo de z1 es <class 'complex'>\n",
      "El tipo de z2 es <class 'complex'>\n",
      "El tipo de z3 es <class 'complex'>\n"
     ]
    }
   ],
   "source": [
    "print(f\"El tipo de z1 es {type(z1)}\")\n",
    "print(f\"El tipo de z2 es {type(z2)}\")\n",
    "print(f\"El tipo de z3 es {type(z3)}\")"
   ]
  },
  {
   "cell_type": "code",
   "execution_count": 7,
   "id": "6919250d-a00b-403d-8304-fe996fd77cae",
   "metadata": {},
   "outputs": [
    {
     "name": "stdout",
     "output_type": "stream",
     "text": [
      "suma (6+1j)\n",
      "resta (-2+5j)\n",
      "multiplicacion (14+8j)\n",
      "division (0.1+0.8j)\n"
     ]
    }
   ],
   "source": [
    "z1 = 2 + 3j\n",
    "z2 = 4 - 2j\n",
    "\n",
    "suma = z1 + z2\n",
    "resta = z1 - z2\n",
    "multi = z1 * z2\n",
    "div = z1 / z2\n",
    "\n",
    "print(f\"suma {suma}\")\n",
    "print(f\"resta {resta}\")\n",
    "print(f\"multiplicacion {multi}\")\n",
    "print(f\"division {div}\")"
   ]
  },
  {
   "cell_type": "markdown",
   "id": "4afa1294-7b62-4eae-83f3-9e0a5ff5ff6f",
   "metadata": {},
   "source": [
    "# Booleanos"
   ]
  },
  {
   "cell_type": "markdown",
   "id": "7cd8ad27-3e01-404c-b73b-f63ea79a39ef",
   "metadata": {},
   "source": [
    "Los booleanos en Python,representados por el tipo bool, son un tipo de dato que puede tener uno de dos valores: True O False, se utilizan principalmente para representar condiciones y controlar el flujo de ejecucion en estructuras de control como condicionales y bucles"
   ]
  },
  {
   "cell_type": "markdown",
   "id": "6a0c6157-1166-418b-9eaa-562f3381f40b",
   "metadata": {},
   "source": [
    "**Ejemplo de uso de variables de tipo bool**"
   ]
  },
  {
   "cell_type": "code",
   "execution_count": 1,
   "id": "b56de998-181c-47e0-8241-1d05b8113710",
   "metadata": {},
   "outputs": [
    {
     "name": "stdout",
     "output_type": "stream",
     "text": [
      "Este es el valor de a 4\n",
      "Este es el valor de b 3\n",
      "este es el resultado de c :False\n"
     ]
    }
   ],
   "source": [
    "a = 4\n",
    "b = 3\n",
    "c = a == b\n",
    "print(f\"Este es el valor de a {a}\")\n",
    "print(f\"Este es el valor de b {b}\")\n",
    "print(f\"este es el resultado de c :{c}\")"
   ]
  },
  {
   "cell_type": "code",
   "execution_count": 2,
   "id": "8dc22fc8-eaab-4e60-8feb-4d39064fbf5f",
   "metadata": {},
   "outputs": [
    {
     "name": "stdout",
     "output_type": "stream",
     "text": [
      "Este es el valor de a 4\n",
      "Este es el valor de b 4\n",
      "este es el resultado de c :True\n"
     ]
    }
   ],
   "source": [
    "a = 4\n",
    "b = 4\n",
    "c = a == b\n",
    "print(f\"Este es el valor de a {a}\")\n",
    "print(f\"Este es el valor de b {b}\")\n",
    "print(f\"este es el resultado de c :{c}\")"
   ]
  },
  {
   "cell_type": "code",
   "execution_count": 3,
   "id": "febc67a1-ffba-4001-84dd-c586767fd8af",
   "metadata": {},
   "outputs": [
    {
     "name": "stdout",
     "output_type": "stream",
     "text": [
      "Tipo de dato de c <class 'bool'>\n"
     ]
    }
   ],
   "source": [
    "print(f\"Tipo de dato de c {type(c)}\")"
   ]
  },
  {
   "cell_type": "markdown",
   "id": "ee2d72db-5fb0-4cd6-bef6-1dcfc956451f",
   "metadata": {},
   "source": [
    "**Verificar un password**"
   ]
  },
  {
   "cell_type": "code",
   "execution_count": 4,
   "id": "f8d08633-b6d7-4e31-97cc-992961ac03ce",
   "metadata": {},
   "outputs": [
    {
     "name": "stdout",
     "output_type": "stream",
     "text": [
      "Tu password ingresado es: False\n"
     ]
    }
   ],
   "source": [
    "pass_c = \"H2G4\"\n",
    "pass_p = \"H2G5\"\n",
    "verf = pass_c == pass_p\n",
    "print(f\"Tu password ingresado es: {verf}\")"
   ]
  },
  {
   "cell_type": "code",
   "execution_count": null,
   "id": "4ad272bd-00be-43bd-864c-db2367eb53d1",
   "metadata": {},
   "outputs": [],
   "source": []
  }
 ],
 "metadata": {
  "kernelspec": {
   "display_name": "Python 3 (ipykernel)",
   "language": "python",
   "name": "python3"
  },
  "language_info": {
   "codemirror_mode": {
    "name": "ipython",
    "version": 3
   },
   "file_extension": ".py",
   "mimetype": "text/x-python",
   "name": "python",
   "nbconvert_exporter": "python",
   "pygments_lexer": "ipython3",
   "version": "3.12.7"
  }
 },
 "nbformat": 4,
 "nbformat_minor": 5
}
