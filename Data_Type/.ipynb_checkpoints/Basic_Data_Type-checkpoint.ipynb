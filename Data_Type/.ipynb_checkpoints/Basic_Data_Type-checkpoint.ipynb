{
 "cells": [
  {
   "cell_type": "markdown",
   "id": "dff75d47-acbf-4791-b736-7965b838d71a",
   "metadata": {},
   "source": [
    "# Tipos de datos basicos"
   ]
  },
  {
   "cell_type": "markdown",
   "id": "9de7d2e8-aebe-438b-9da8-bbea83a8f9c5",
   "metadata": {},
   "source": [
    "## Datos enteros"
   ]
  },
  {
   "cell_type": "markdown",
   "id": "4a9b9514-4ebe-4f18-8fb0-b4d605a1bcda",
   "metadata": {},
   "source": [
    "Un dato entero en python, representado por el tipo *int*, es un tipo de dato numerico que almacena sin decimales, tanto positivos como negativos, y puede ser de cualquier longitud sin limite de precision."
   ]
  },
  {
   "cell_type": "markdown",
   "id": "7d2cb5cf-3dbe-4901-be39-5dfd1eff2df0",
   "metadata": {},
   "source": [
    "**Ejemplo de uso de variables de tipo int**"
   ]
  },
  {
   "cell_type": "code",
   "execution_count": 1,
   "id": "5a362b24-b1cb-46d3-9a42-506f0581b41a",
   "metadata": {},
   "outputs": [
    {
     "name": "stdout",
     "output_type": "stream",
     "text": [
      "El valor de a es: 4\n",
      "El valor de b es: 7\n",
      "La suma de a y b es: 11\n"
     ]
    }
   ],
   "source": [
    "a = 4\n",
    "b = 7\n",
    "c = a + b\n",
    "print(f\"El valor de a es: {a}\")\n",
    "print(f\"El valor de b es: {b}\")\n",
    "print(f\"La suma de a y b es: {c}\")"
   ]
  },
  {
   "cell_type": "code",
   "execution_count": 2,
   "id": "1ed4dfe4-bbf3-402d-af42-9c8e2292e54a",
   "metadata": {},
   "outputs": [
    {
     "name": "stdout",
     "output_type": "stream",
     "text": [
      "El tipo de a es: <class 'int'>\n",
      "El tipo de b es: <class 'int'>\n",
      "El tipo de c es: <class 'int'>\n"
     ]
    }
   ],
   "source": [
    "print(f\"El tipo de a es: {type(a)}\")\n",
    "print(f\"El tipo de b es: {type(b)}\")\n",
    "print(f\"El tipo de c es: {type(c)}\")"
   ]
  },
  {
   "cell_type": "code",
   "execution_count": 3,
   "id": "9cfbb2b5-580a-4db7-b6bf-8a3333d04d40",
   "metadata": {},
   "outputs": [
    {
     "name": "stdout",
     "output_type": "stream",
     "text": [
      "El valor de a es: 4 \n",
      " Data type: <class 'int'>\n",
      "El valor de b es: 7 \n",
      " Data type: <class 'int'>\n",
      "La suma de a y b es: 11 \n",
      " Data type: <class 'int'>\n"
     ]
    }
   ],
   "source": [
    "print(f\"El valor de a es: {a} \\n Data type: {type(a)}\")\n",
    "print(f\"El valor de b es: {b} \\n Data type: {type(b)}\")\n",
    "print(f\"La suma de a y b es: {c} \\n Data type: {type(c)}\")"
   ]
  },
  {
   "cell_type": "markdown",
   "id": "57408494-cfe5-481b-bb8a-9a8178848f5a",
   "metadata": {},
   "source": [
    "**Calculos con numeros enteros**"
   ]
  },
  {
   "cell_type": "code",
   "execution_count": 4,
   "id": "b5dcfc55-987b-480b-963b-ea7628d5e9e7",
   "metadata": {},
   "outputs": [
    {
     "name": "stdout",
     "output_type": "stream",
     "text": [
      "El valor de suma es 19 \n",
      " y su tipo es: Data type: <class 'int'>\n",
      "El valor de resta es 11 \n",
      " y su tipo es: Data type: <class 'int'>\n",
      "El valor de multiplicacion es 60 \n",
      " y su tipo es: Data type: <class 'int'>\n",
      "El valor de division es 3 \n",
      " y su tipo es: Data type: <class 'int'>\n",
      "El valor de modulo es 3 \n",
      " y su tipo es: Data type: <class 'int'>\n"
     ]
    }
   ],
   "source": [
    "# Definir 2 numeros enteros\n",
    "num1 = 15\n",
    "num2 = 4\n",
    "\n",
    "# Operaciones aritmeticas\n",
    "suma = num1 + num2\n",
    "resta = num1 - num2\n",
    "mult = num1 * num2\n",
    "division_int = num1 // num2 # se usan los // para hacer la division entera entre 2 variables\n",
    "modulo = num1 % num2 # es el residuo de una division\n",
    "\n",
    "# Imprimir resultados\n",
    "print(f\"El valor de suma es {suma} \\n y su tipo es: Data type: {type(suma)}\")\n",
    "print(f\"El valor de resta es {resta} \\n y su tipo es: Data type: {type(resta)}\")\n",
    "print(f\"El valor de multiplicacion es {mult} \\n y su tipo es: Data type: {type(mult)}\")\n",
    "print(f\"El valor de division es {division_int} \\n y su tipo es: Data type: {type(division_int)}\")\n",
    "print(f\"El valor de modulo es {modulo} \\n y su tipo es: Data type: {type(modulo)}\")"
   ]
  },
  {
   "cell_type": "code",
   "execution_count": null,
   "id": "fd03c216-ed29-4070-9ec1-704e68ca31f4",
   "metadata": {},
   "outputs": [],
   "source": []
  }
 ],
 "metadata": {
  "kernelspec": {
   "display_name": "Python 3 (ipykernel)",
   "language": "python",
   "name": "python3"
  },
  "language_info": {
   "codemirror_mode": {
    "name": "ipython",
    "version": 3
   },
   "file_extension": ".py",
   "mimetype": "text/x-python",
   "name": "python",
   "nbconvert_exporter": "python",
   "pygments_lexer": "ipython3",
   "version": "3.12.7"
  }
 },
 "nbformat": 4,
 "nbformat_minor": 5
}
