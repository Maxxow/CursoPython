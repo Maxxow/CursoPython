{
 "cells": [
  {
   "cell_type": "markdown",
   "id": "040f6f16-016c-442a-b594-c3db8476b0c3",
   "metadata": {},
   "source": [
    "# Funcion *print()*"
   ]
  },
  {
   "cell_type": "markdown",
   "id": "f6924e93-b976-42a7-867b-7039abfb1346",
   "metadata": {},
   "source": [
    "La funcion *print()* en Python se utiliza para mostrar informacion en la salida estandar, que normalmente en la consola o en la terminal. Permite imprimir texto, variables y resultados de calculo, facilitando la visualizacion de datos y la depuracion del codigo.\n",
    "\n",
    "Se puede imprimir de las siguientes formas:\n",
    "* Colocando el texto en comillas dobles. ***Ejemplo: print(\"Texto\")***\n",
    "* Colocando el texto entre comillas simples. ***Ejemplo: print('Texto')***\n",
    "* Colocando el texto en tres comillas dobles (Esto permite imprimir varias lineas de texto.) ***Ejemplo: print(\"\"\"\"Texto\"\"\")***"
   ]
  },
  {
   "cell_type": "markdown",
   "id": "12ed4cc8-6288-46c0-8d71-9a0706c063a1",
   "metadata": {},
   "source": [
    "**Ejemplo utilizando dobles comillas**"
   ]
  },
  {
   "cell_type": "code",
   "execution_count": 1,
   "id": "9ea1eeb4-29f4-40fb-a8ad-0743d9c6e019",
   "metadata": {},
   "outputs": [
    {
     "name": "stdout",
     "output_type": "stream",
     "text": [
      "Hola mundo\n"
     ]
    }
   ],
   "source": [
    "print(\"Hola mundo\")"
   ]
  },
  {
   "cell_type": "code",
   "execution_count": 2,
   "id": "e014f461-ea18-44e0-bd8d-8b172234c87d",
   "metadata": {},
   "outputs": [
    {
     "name": "stdout",
     "output_type": "stream",
     "text": [
      "Nombre: Jose\n"
     ]
    }
   ],
   "source": [
    "print(\"Nombre: Jose\")"
   ]
  },
  {
   "cell_type": "code",
   "execution_count": 4,
   "id": "15353a4f-b5b3-47d8-867c-65c28a8d47a4",
   "metadata": {},
   "outputs": [
    {
     "name": "stdout",
     "output_type": "stream",
     "text": [
      "Nombre: jose \n",
      "Edad: 19\n"
     ]
    }
   ],
   "source": [
    "# se puede agregar un salto de linea un \\n\n",
    "print(\"Nombre: jose \\nEdad: 19\")"
   ]
  },
  {
   "cell_type": "markdown",
   "id": "55b6a89a-d0b9-4f87-83db-053ecee11144",
   "metadata": {},
   "source": [
    "**Ejemplo utilizando comillas simples**"
   ]
  },
  {
   "cell_type": "code",
   "execution_count": 5,
   "id": "e0ed51a3-46de-43b7-b133-baafb417b6b3",
   "metadata": {},
   "outputs": [
    {
     "name": "stdout",
     "output_type": "stream",
     "text": [
      "Hola mundo\n"
     ]
    }
   ],
   "source": [
    "print('Hola mundo')"
   ]
  },
  {
   "cell_type": "code",
   "execution_count": 6,
   "id": "bff11c79-4dc4-4361-b4bf-b205ce61e5bd",
   "metadata": {},
   "outputs": [
    {
     "name": "stdout",
     "output_type": "stream",
     "text": [
      "nombre: jose \n",
      "Edad: 19\n"
     ]
    }
   ],
   "source": [
    "print('nombre: jose \\nEdad: 19')"
   ]
  },
  {
   "cell_type": "markdown",
   "id": "e569b213-13fc-477d-a049-bc31153c314e",
   "metadata": {},
   "source": [
    "**Ejemplo utilizando 3 comillas dobles**"
   ]
  },
  {
   "cell_type": "code",
   "execution_count": 7,
   "id": "cd8290b8-3887-4653-8aa5-92df12b46df9",
   "metadata": {},
   "outputs": [
    {
     "name": "stdout",
     "output_type": "stream",
     "text": [
      "Nombre: Jose\n",
      "Edad: 19\n"
     ]
    }
   ],
   "source": [
    "print(\"\"\"Nombre: Jose\n",
    "Edad: 19\"\"\")"
   ]
  },
  {
   "cell_type": "code",
   "execution_count": null,
   "id": "8abe0689-3495-48f2-beb6-4a1ebb35474c",
   "metadata": {},
   "outputs": [],
   "source": []
  }
 ],
 "metadata": {
  "kernelspec": {
   "display_name": "Python 3 (ipykernel)",
   "language": "python",
   "name": "python3"
  },
  "language_info": {
   "codemirror_mode": {
    "name": "ipython",
    "version": 3
   },
   "file_extension": ".py",
   "mimetype": "text/x-python",
   "name": "python",
   "nbconvert_exporter": "python",
   "pygments_lexer": "ipython3",
   "version": "3.12.7"
  }
 },
 "nbformat": 4,
 "nbformat_minor": 5
}
