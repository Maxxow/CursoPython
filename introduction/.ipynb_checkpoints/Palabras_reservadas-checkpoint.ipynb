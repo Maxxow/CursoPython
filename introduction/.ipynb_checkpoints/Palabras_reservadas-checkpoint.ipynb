{
 "cells": [
  {
   "cell_type": "markdown",
   "id": "043e01b9-e192-4214-93a2-49e50cb0e05a",
   "metadata": {},
   "source": [
    "# Palabras Reservadas"
   ]
  },
  {
   "cell_type": "markdown",
   "id": "1fb242ac-6e86-43af-b2ac-06d398436b49",
   "metadata": {},
   "source": [
    "Las palabras resevadas en python son identificadores especiales que tienen significados especificos y funciones definidas por el lenguaje. No se pueden usar como nombres de variables, funciones o cualquier otro identificador, ya que estan reservadas para la estructura y sintaxis del sistema\n",
    "\n",
    "Podemso obtener un listado de las palabras reservadas utilizando:"
   ]
  },
  {
   "cell_type": "code",
   "execution_count": 1,
   "id": "a855ec74-a00b-4a2a-91ba-cfd606a3f168",
   "metadata": {},
   "outputs": [
    {
     "name": "stdout",
     "output_type": "stream",
     "text": [
      "\n",
      "Here is a list of the Python keywords.  Enter any keyword to get more help.\n",
      "\n",
      "False               class               from                or\n",
      "None                continue            global              pass\n",
      "True                def                 if                  raise\n",
      "and                 del                 import              return\n",
      "as                  elif                in                  try\n",
      "assert              else                is                  while\n",
      "async               except              lambda              with\n",
      "await               finally             nonlocal            yield\n",
      "break               for                 not                 \n",
      "\n"
     ]
    }
   ],
   "source": [
    "help(\"keywords\")"
   ]
  },
  {
   "cell_type": "code",
   "execution_count": null,
   "id": "45810fc3-fd9f-4b1f-8034-92729d67e60e",
   "metadata": {},
   "outputs": [],
   "source": []
  }
 ],
 "metadata": {
  "kernelspec": {
   "display_name": "Python 3 (ipykernel)",
   "language": "python",
   "name": "python3"
  },
  "language_info": {
   "codemirror_mode": {
    "name": "ipython",
    "version": 3
   },
   "file_extension": ".py",
   "mimetype": "text/x-python",
   "name": "python",
   "nbconvert_exporter": "python",
   "pygments_lexer": "ipython3",
   "version": "3.12.7"
  }
 },
 "nbformat": 4,
 "nbformat_minor": 5
}
