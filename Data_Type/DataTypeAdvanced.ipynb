{
 "cells": [
  {
   "cell_type": "markdown",
   "id": "a7cd06bc-726c-43bb-805c-d1ee3f1d9d59",
   "metadata": {},
   "source": [
    "# Tipos de Datos Avanzados"
   ]
  },
  {
   "cell_type": "markdown",
   "id": "56e664bb-815f-44d3-943c-d631132f7d8f",
   "metadata": {},
   "source": [
    "### Listas"
   ]
  },
  {
   "cell_type": "markdown",
   "id": "9d770e82-289c-4855-8fa3-fab9a9d8df75",
   "metadata": {},
   "source": [
    "Las listas de python respresentadas por el tipo *list*, son colecciones ordenadas y **mutables** de elementos que pueden ser de diferentes tipos de datos. Se definen utilizando corchetes [...] y permiten almacenar, acceder, modificar y eliminar elementos de forma flexible"
   ]
  },
  {
   "cell_type": "code",
   "execution_count": 1,
   "id": "a0b8aa5b-32d2-4ec8-a672-8d2e57d63282",
   "metadata": {},
   "outputs": [
    {
     "name": "stdout",
     "output_type": "stream",
     "text": [
      "El valor de a es [1, 2, 3]\n",
      "El valor de b es [4, 5, 6]\n",
      "El valor de c es [1, 2, 3, 4, 5, 6]\n",
      "---------------------------\n",
      "El tipo de dato de a es <class 'list'>\n",
      "El tipo de dato de b es <class 'list'>\n",
      "El tipo de dato de c es <class 'list'>\n"
     ]
    }
   ],
   "source": [
    "a = [1,2,3]\n",
    "b = [4,5,6]\n",
    "c = a + b\n",
    "print(f\"El valor de a es {a}\")\n",
    "print(f\"El valor de b es {b}\")\n",
    "print(f\"El valor de c es {c}\")\n",
    "print(\"---------------------------\")\n",
    "print(f\"El tipo de dato de a es {type(a)}\")\n",
    "print(f\"El tipo de dato de b es {type(b)}\")\n",
    "print(f\"El tipo de dato de c es {type(c)}\")"
   ]
  },
  {
   "cell_type": "markdown",
   "id": "ea967d3e-53a7-40d4-a5f2-4731314acac9",
   "metadata": {},
   "source": [
    " **Ejemplo: Crear una lista que contenga cada tipo de dato basico**"
   ]
  },
  {
   "cell_type": "code",
   "execution_count": 3,
   "id": "6f7a887c-c81a-437a-ad18-d6965f573518",
   "metadata": {},
   "outputs": [
    {
     "name": "stdout",
     "output_type": "stream",
     "text": [
      "El tipo de la lista es <class 'list'>\n",
      "El valor de la lista es 1 y su tipo de dato es <class 'int'>\n",
      "El valor de la lista es 5.34 y su tipo de dato es <class 'float'>\n",
      "El valor de la lista es True y su tipo de dato es <class 'bool'>\n",
      "El valor de la lista es (1+2j) y su tipo de dato es <class 'complex'>\n",
      "El valor de la lista es Manzana y su tipo de dato es <class 'str'>\n"
     ]
    }
   ],
   "source": [
    "lt=[1, 5.34, True, 1+2j, \"Manzana\"]\n",
    "print(f\"El tipo de la lista es {type(lt)}\")\n",
    "print(f\"El valor de la lista es {lt[0]} y su tipo de dato es {type(lt[0])}\")\n",
    "print(f\"El valor de la lista es {lt[1]} y su tipo de dato es {type(lt[1])}\")\n",
    "print(f\"El valor de la lista es {lt[2]} y su tipo de dato es {type(lt[2])}\")\n",
    "print(f\"El valor de la lista es {lt[3]} y su tipo de dato es {type(lt[3])}\")\n",
    "print(f\"El valor de la lista es {lt[4]} y su tipo de dato es {type(lt[4])}\")"
   ]
  },
  {
   "cell_type": "markdown",
   "id": "16f02997-1061-4555-9de7-8d65402e03dc",
   "metadata": {},
   "source": [
    "# Tuplas"
   ]
  },
  {
   "cell_type": "markdown",
   "id": "d5c30e6d-b365-4d7b-9b6a-9834a905a24a",
   "metadata": {},
   "source": [
    "Las tuplas en python representadas por el tipo tuple, son colecciones ordenadas e inmutables de elementos que pueden ser diferentes tipos dedatos, Se definen usando parentesis(...) y una vez creadas, sus elementos no pueden ser modificados"
   ]
  },
  {
   "cell_type": "markdown",
   "id": "d0db6c00-52a2-451f-ba8f-47f2cc8b5af3",
   "metadata": {},
   "source": [
    "**Ejemplos de uso de variables de tipo tuple**"
   ]
  },
  {
   "cell_type": "code",
   "execution_count": 1,
   "id": "2f263045-5d8e-44f8-b0eb-8be8b4abf8bc",
   "metadata": {},
   "outputs": [
    {
     "name": "stdout",
     "output_type": "stream",
     "text": [
      "El valor de a es (1, 2, 3)\n",
      "El valor de b es (4, 5, 6)\n",
      "El valor de c es (1, 2, 3, 4, 5, 6)\n"
     ]
    }
   ],
   "source": [
    "a = (1,2,3)\n",
    "b = (4,5,6)\n",
    "c = a + b\n",
    "print(f\"El valor de a es {a}\")\n",
    "print(f\"El valor de b es {b}\")\n",
    "print(f\"El valor de c es {c}\")"
   ]
  },
  {
   "cell_type": "code",
   "execution_count": 2,
   "id": "fd62cdc4-083b-4034-b136-fce83d5a1a3f",
   "metadata": {},
   "outputs": [
    {
     "name": "stdout",
     "output_type": "stream",
     "text": [
      "Este es el tipo de variable de a:<class 'tuple'>\n",
      "Este es el tipo de variable de b:<class 'tuple'>\n",
      "Este es el tipo de variable de c:<class 'tuple'>\n"
     ]
    }
   ],
   "source": [
    "print(f\"Este es el tipo de variable de a:{type(a)}\")\n",
    "print(f\"Este es el tipo de variable de b:{type(b)}\")\n",
    "print(f\"Este es el tipo de variable de c:{type(c)}\")"
   ]
  },
  {
   "cell_type": "markdown",
   "id": "11a2c54e-2997-487a-b015-da93a8d52093",
   "metadata": {},
   "source": [
    "**Ejemplo: Crear una tupla que contenga cada tipo de elemento**"
   ]
  },
  {
   "cell_type": "code",
   "execution_count": 4,
   "id": "c65950d2-595d-4e50-b45e-b37674039c53",
   "metadata": {},
   "outputs": [
    {
     "name": "stdout",
     "output_type": "stream",
     "text": [
      "El tipo de tupla es: <class 'tuple'>\n",
      "El valor de la tupla es: 5, y el variable type es <class 'int'>\n",
      "El valor de la tupla es: 5.34, y el variable type es <class 'float'>\n",
      "El valor de la tupla es: (5+2j), y el variable type es <class 'complex'>\n",
      "El valor de la tupla es: True, y el variable type es <class 'bool'>\n",
      "El valor de la tupla es: hola, y el variable type es <class 'str'>\n"
     ]
    }
   ],
   "source": [
    "to = (5, 5.34, 5+2j, True, \"hola\")\n",
    "print(f\"El tipo de tupla es: {type(to)}\")\n",
    "print(f\"El valor de la tupla es: {(to[0])}, y el variable type es {type(to[0])}\")\n",
    "print(f\"El valor de la tupla es: {(to[1])}, y el variable type es {type(to[1])}\")\n",
    "print(f\"El valor de la tupla es: {(to[2])}, y el variable type es {type(to[2])}\")\n",
    "print(f\"El valor de la tupla es: {(to[3])}, y el variable type es {type(to[3])}\")\n",
    "print(f\"El valor de la tupla es: {(to[4])}, y el variable type es {type(to[4])}\")"
   ]
  },
  {
   "cell_type": "markdown",
   "id": "c809b002-dee1-41cf-9660-0d345f0e9fd3",
   "metadata": {},
   "source": [
    "**Notas Por agg**\n",
    "En el sig plano escribe lo que entendiste de las tuplas y expresalo"
   ]
  },
  {
   "cell_type": "markdown",
   "id": "a3756fba-6d07-44ad-a71e-9d8e71d06139",
   "metadata": {},
   "source": [
    "# Conjuntos(sets)"
   ]
  },
  {
   "cell_type": "markdown",
   "id": "4672b927-1692-4dc5-bb4b-c18b27ca82e7",
   "metadata": {},
   "source": [
    "Los conjuntos en python, representados por el tipo *set*, son colecciones desordenadas de elementos unicos y **mutables**. Se definen utilizando llaves{...} y permiten realizar operaciones matematicas como union, interseccion y diferencia, ademas de eliminar elementos duplicados"
   ]
  },
  {
   "cell_type": "markdown",
   "id": "d1626550-8667-4c6f-ab21-31526c3bd344",
   "metadata": {},
   "source": [
    "**Ejemplo de uso de variables de tipo set**"
   ]
  },
  {
   "cell_type": "code",
   "execution_count": 7,
   "id": "2c6ffd87-81b0-4b97-8274-5f6d1bcc6664",
   "metadata": {},
   "outputs": [],
   "source": [
    "a = {1,2,3}\n",
    "b = {4,5,6}\n",
    "# c = a + b no funicona de la manera igual que una list o tuple, se usa una funcion de union \".union()\"\n",
    "c = a.union(b)"
   ]
  },
  {
   "cell_type": "code",
   "execution_count": 8,
   "id": "d2fe2397-a29c-4633-aca5-552a4c35ea85",
   "metadata": {},
   "outputs": [
    {
     "name": "stdout",
     "output_type": "stream",
     "text": [
      "El valor de a es: {1, 2, 3}\n",
      "El valor de b es: {4, 5, 6}\n",
      "El valor de c es: {1, 2, 3, 4, 5, 6}\n"
     ]
    }
   ],
   "source": [
    "print(f\"El valor de a es: {a}\")\n",
    "print(f\"El valor de b es: {b}\")\n",
    "print(f\"El valor de c es: {c}\")"
   ]
  },
  {
   "cell_type": "code",
   "execution_count": 9,
   "id": "0ae7e0c7-0f2e-46af-809f-110edb83d3f3",
   "metadata": {},
   "outputs": [
    {
     "name": "stdout",
     "output_type": "stream",
     "text": [
      "El DataType de a es: <class 'set'>\n",
      "El DataType de b es: <class 'set'>\n",
      "El DataType de c es: <class 'set'>\n"
     ]
    }
   ],
   "source": [
    "print(f\"El DataType de a es: {type(a)}\")\n",
    "print(f\"El DataType de b es: {type(b)}\")\n",
    "print(f\"El DataType de c es: {type(c)}\")"
   ]
  },
  {
   "cell_type": "markdown",
   "id": "c4f12443-1713-4863-9227-25ad55c1532f",
   "metadata": {},
   "source": [
    "**Ejemplo: Crear un conjunto de un elemento que contenga cada tipo de un DataBasic**"
   ]
  },
  {
   "cell_type": "code",
   "execution_count": 10,
   "id": "b5eb5546-5af0-4582-84e1-1fe511acf9ea",
   "metadata": {},
   "outputs": [
    {
     "name": "stdout",
     "output_type": "stream",
     "text": [
      "Este es el DataType de cj: <class 'set'>\n",
      "En este caso no se pueden mostrar en un orden por que son datos desordenados\n"
     ]
    }
   ],
   "source": [
    "cj = {1, 2.34, 5+3j, True, \"HelmutZemo\"}\n",
    "print(f\"Este es el DataType de cj: {type(cj)}\")\n",
    "print(\"En este caso no se pueden mostrar en un orden por que son datos desordenados\")\n",
    "\n",
    "#print(f\"Este es el valor de  {cj}, y este es su DataType: {type(0)}\")\n",
    "#print(f\"Este es el valor de  {}, y este es su DataType: {type(1)}\")\n",
    "#print(f\"Este es el valor de  {}, y este es su DataType: {type(2)}\")\n",
    "#print(f\"Este es el valor de  {}, y este es su DataType: {type(3)}\")\n",
    "#print(f\"Este es el valor de  {}, y este es su DataType: {type(4)}\")"
   ]
  },
  {
   "cell_type": "code",
   "execution_count": null,
   "id": "62a3e5cc-6d6d-4d2f-9024-e89fe53e2c5f",
   "metadata": {},
   "outputs": [],
   "source": []
  }
 ],
 "metadata": {
  "kernelspec": {
   "display_name": "Python 3 (ipykernel)",
   "language": "python",
   "name": "python3"
  },
  "language_info": {
   "codemirror_mode": {
    "name": "ipython",
    "version": 3
   },
   "file_extension": ".py",
   "mimetype": "text/x-python",
   "name": "python",
   "nbconvert_exporter": "python",
   "pygments_lexer": "ipython3",
   "version": "3.12.7"
  }
 },
 "nbformat": 4,
 "nbformat_minor": 5
}
