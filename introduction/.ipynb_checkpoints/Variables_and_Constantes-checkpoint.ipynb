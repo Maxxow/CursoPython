{
 "cells": [
  {
   "cell_type": "markdown",
   "id": "0f86fc7c-8f27-43ed-a005-4a2b48c912e5",
   "metadata": {},
   "source": [
    "# Variables y Constantes"
   ]
  },
  {
   "cell_type": "markdown",
   "id": "cdb1bbbc-29b6-4b01-a4e9-d86938ddbc01",
   "metadata": {},
   "source": [
    "En Python, las variables se definen en minusculas y se utilizan para guardar informacion que puede cambiar mientras el programa corre\n",
    "\n",
    "Las constantes, aun que no son oficialmente soportadas por Python, se representan con nombres en mayusculas y contienen valores que no deben cambiar.\n",
    "\n",
    "Reglas para nombrar las variables:\n",
    "* Nombres en minusculas (Por convencion, se utilizaban minusculas para nombrar variables).\n",
    "    * ***Ejemplos: base, altura, area***\n",
    "\n",
    "* Nombres en MAYUSCULAS (Por convencion, se utilizan MAYUSCULAS para nombrar consantes).\n",
    "    *  ***Ejemplo: PI, VELOCIDADLUZ, GRAVEDAD***\n",
    "\n",
    "*  Digitos (Se pueden agregar digitos al nombre, siempre que el nombre no comience por un digito).\n",
    "    *   ***Ejemplo: num1, num2, num3***\n",
    "\n",
    "*   Guiones bajos: _(Pueden comenzar con un guion bajo).\n",
    "    *   ***Ejemplos: numero_1, numero_2, cantidad_de_artistas, _cantidad***\n",
    "\n",
    "*   No se pueden utiliza palabras reservadas del lenguaje.\n",
    "    *   ***Ejemplos: False, from, for, and***\n",
    "\n",
    "En Python se usa el simbolo **=** para asignar un valor a una variable.\n",
    "* ***Ejemplo: variable = 5***"
   ]
  },
  {
   "cell_type": "markdown",
   "id": "7c600873-bd1a-422f-9af6-27c6b25b9638",
   "metadata": {},
   "source": [
    "## Variables"
   ]
  },
  {
   "cell_type": "markdown",
   "id": "5253b87f-eaf0-4c57-ad2a-c9e71ddcf5df",
   "metadata": {},
   "source": [
    "***Ejemplo: Calcule el area de un rectangulo***\n",
    "Utilice la formula\n",
    "$$\n",
    "A=b*a\n",
    "$$\n",
    "Donde $b$=base y $a$=altura"
   ]
  },
  {
   "cell_type": "code",
   "execution_count": 1,
   "id": "07c6dd0f-18af-406f-8312-60957420ff19",
   "metadata": {},
   "outputs": [
    {
     "name": "stdout",
     "output_type": "stream",
     "text": [
      "This is the rectangule area: 15\n"
     ]
    }
   ],
   "source": [
    "altura = 5\n",
    "base = 3\n",
    "area = base * altura\n",
    "print(\"This is the rectangule area:\", area)"
   ]
  },
  {
   "cell_type": "markdown",
   "id": "d1fb40d8-367b-4793-ac6f-41e7eff89006",
   "metadata": {},
   "source": [
    "## Constantes"
   ]
  },
  {
   "cell_type": "markdown",
   "id": "d635d42b-3704-4ab9-b856-2e6944e6c616",
   "metadata": {},
   "source": [
    "***Ejercicio: Calcule el area de un circulo***\n",
    "\n",
    "Utilice la formula\n",
    "$$\n",
    "A = \\pi * r^2\n",
    "$$\n",
    "donde $r$=Radio"
   ]
  },
  {
   "cell_type": "code",
   "execution_count": 3,
   "id": "023bf86d-ab7e-4563-bb90-40ab6f1a2477",
   "metadata": {},
   "outputs": [
    {
     "name": "stdout",
     "output_type": "stream",
     "text": [
      "This is the circle area with 6 in ratio: 113.0976\n"
     ]
    }
   ],
   "source": [
    "PI = 3.1416\n",
    "radio = 6\n",
    "cuadr = radio * radio\n",
    "print(\"This is the circle area with 6 in ratio:\", PI * cuadr)"
   ]
  },
  {
   "cell_type": "code",
   "execution_count": 4,
   "id": "879928f4-57b8-423b-ad6a-1b5fe3d5fb14",
   "metadata": {},
   "outputs": [
    {
     "name": "stdout",
     "output_type": "stream",
     "text": [
      "This is the circle area with 6 in ratio: 113.0976\n"
     ]
    }
   ],
   "source": [
    "PI = 3.1416\n",
    "radio = 6\n",
    "print(\"This is the circle area with 6 in ratio:\", PI * (radio * radio))"
   ]
  },
  {
   "cell_type": "code",
   "execution_count": 5,
   "id": "449a9509-b56e-46dd-9d88-76efd19b5fec",
   "metadata": {},
   "outputs": [
    {
     "name": "stdout",
     "output_type": "stream",
     "text": [
      "This is the circle area with 6 in ratio: 113.0976\n"
     ]
    }
   ],
   "source": [
    "PI = 3.1416\n",
    "radio = 6\n",
    "print(\"This is the circle area with 6 in ratio:\", PI * radio ** 2)"
   ]
  },
  {
   "cell_type": "code",
   "execution_count": null,
   "id": "c9b28336-7770-4438-ba36-6af7074e1032",
   "metadata": {},
   "outputs": [],
   "source": []
  }
 ],
 "metadata": {
  "kernelspec": {
   "display_name": "Python 3 (ipykernel)",
   "language": "python",
   "name": "python3"
  },
  "language_info": {
   "codemirror_mode": {
    "name": "ipython",
    "version": 3
   },
   "file_extension": ".py",
   "mimetype": "text/x-python",
   "name": "python",
   "nbconvert_exporter": "python",
   "pygments_lexer": "ipython3",
   "version": "3.12.7"
  }
 },
 "nbformat": 4,
 "nbformat_minor": 5
}
