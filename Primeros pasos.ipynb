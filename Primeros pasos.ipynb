{
 "cells": [
  {
   "cell_type": "markdown",
   "id": "a00ff1bb-7f6e-4771-b5f4-d96398b27404",
   "metadata": {},
   "source": [
    "## Titulo h2 en markdown"
   ]
  },
  {
   "cell_type": "markdown",
   "id": "9e485a7d-de05-4d00-9b6e-ed8b1f57cd3c",
   "metadata": {},
   "source": [
    "# h\n",
    "## h\n",
    "### h\n",
    "#### h\n",
    "##### h\n",
    "###### h"
   ]
  },
  {
   "cell_type": "code",
   "execution_count": 1,
   "id": "83558a57-a8ae-4550-9623-f0830c5b8d5e",
   "metadata": {
    "scrolled": true
   },
   "outputs": [
    {
     "data": {
      "text/plain": [
       "2"
      ]
     },
     "execution_count": 1,
     "metadata": {},
     "output_type": "execute_result"
    }
   ],
   "source": [
    "1 + 1"
   ]
  },
  {
   "cell_type": "code",
   "execution_count": 4,
   "id": "e51847af-580d-4b0a-9201-1308bbb6a26b",
   "metadata": {},
   "outputs": [
    {
     "data": {
      "text/plain": [
       "12"
      ]
     },
     "execution_count": 4,
     "metadata": {},
     "output_type": "execute_result"
    }
   ],
   "source": [
    "3 * 4"
   ]
  },
  {
   "cell_type": "markdown",
   "id": "39f4746e-3792-4f59-9ab3-b3dbfd1bf767",
   "metadata": {},
   "source": [
    " # titulo\n",
    "este es un intento de markdown"
   ]
  },
  {
   "cell_type": "code",
   "execution_count": null,
   "id": "ebef97d8-388c-4d40-a2df-65865edbc8a5",
   "metadata": {},
   "outputs": [],
   "source": []
  }
 ],
 "metadata": {
  "kernelspec": {
   "display_name": "Python 3 (ipykernel)",
   "language": "python",
   "name": "python3"
  },
  "language_info": {
   "codemirror_mode": {
    "name": "ipython",
    "version": 3
   },
   "file_extension": ".py",
   "mimetype": "text/x-python",
   "name": "python",
   "nbconvert_exporter": "python",
   "pygments_lexer": "ipython3",
   "version": "3.12.7"
  }
 },
 "nbformat": 4,
 "nbformat_minor": 5
}
