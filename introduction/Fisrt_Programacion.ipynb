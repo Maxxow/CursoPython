{
 "cells": [
  {
   "cell_type": "markdown",
   "id": "d60b5c0a-ed3c-40ea-887f-9891b70e2c2b",
   "metadata": {},
   "source": [
    "# Comentarios y ancho de codigo"
   ]
  },
  {
   "cell_type": "markdown",
   "id": "45e0e4ca-dafe-4bd7-ab77-90c6666e16cc",
   "metadata": {},
   "source": [
    "## Comentarios "
   ]
  },
  {
   "cell_type": "markdown",
   "id": "4619f077-b4c2-46a5-9d39-032f888cc9cd",
   "metadata": {},
   "source": [
    "Los comentarios de python son lineas de texto que el interprete ignora y se utilizan par explicar el codigo y dejar notas para otros programadores\n",
    "* Se escriben usando el simbolo # para comentar una sola linea\n",
    "* Se escriben usando 3 comillas ''' o \"\"\" para comentarios de varias lineas **Nota**:(En jupyter notebook esto no funciona)"
   ]
  },
  {
   "cell_type": "code",
   "execution_count": 2,
   "id": "ec7efda7-1d21-4984-b2f5-e6bb30ae8a96",
   "metadata": {},
   "outputs": [
    {
     "data": {
      "text/plain": [
       "5"
      ]
     },
     "execution_count": 2,
     "metadata": {},
     "output_type": "execute_result"
    }
   ],
   "source": [
    "# Este es un ejemplo de comentario en bloque de python\n",
    "a = 5 # Este es un comentario en linea\n",
    "a"
   ]
  },
  {
   "cell_type": "markdown",
   "id": "2215a709-f9f3-4e23-8180-fe165a2376b5",
   "metadata": {},
   "source": [
    "## Ancho de codigo "
   ]
  },
  {
   "cell_type": "markdown",
   "id": "cbf65735-1589-493c-9d8b-f2d000ad80e0",
   "metadata": {},
   "source": [
    "En caso de que queramos escribir una linea de codigo en varias lineas se utiliza el slash invertido \\ o se colocan lineas entre parentesis ()\n",
    "* La barra inveritda \\  se puede colocar con Alt + 92"
   ]
  },
  {
   "cell_type": "code",
   "execution_count": 3,
   "id": "0f01d84c-cc3e-4d1b-a0fb-db4f30947e3f",
   "metadata": {},
   "outputs": [
    {
     "data": {
      "text/plain": [
       "15"
      ]
     },
     "execution_count": 3,
     "metadata": {},
     "output_type": "execute_result"
    }
   ],
   "source": [
    "suma = 1 + 2 + 3 + 4 + 5\n",
    "suma"
   ]
  },
  {
   "cell_type": "code",
   "execution_count": 8,
   "id": "b992bec4-8806-46a1-8022-b5f01bcd243c",
   "metadata": {},
   "outputs": [
    {
     "data": {
      "text/plain": [
       "15"
      ]
     },
     "execution_count": 8,
     "metadata": {},
     "output_type": "execute_result"
    }
   ],
   "source": [
    "suma = 1 \\\n",
    "+ 2 \\\n",
    "+ 3 \\\n",
    "+ 4 \\\n",
    "+ 5 \n",
    "suma"
   ]
  },
  {
   "cell_type": "code",
   "execution_count": 9,
   "id": "b025dedc-61b4-4c9e-b29a-cc567f95641b",
   "metadata": {},
   "outputs": [
    {
     "data": {
      "text/plain": [
       "15"
      ]
     },
     "execution_count": 9,
     "metadata": {},
     "output_type": "execute_result"
    }
   ],
   "source": [
    "suma = (1\n",
    "        +2\n",
    "        +3\n",
    "        +4\n",
    "        +5)\n",
    "suma"
   ]
  },
  {
   "cell_type": "code",
   "execution_count": null,
   "id": "4fc967a1-ded0-4a8a-8434-0c8c10845973",
   "metadata": {},
   "outputs": [],
   "source": []
  }
 ],
 "metadata": {
  "kernelspec": {
   "display_name": "Python 3 (ipykernel)",
   "language": "python",
   "name": "python3"
  },
  "language_info": {
   "codemirror_mode": {
    "name": "ipython",
    "version": 3
   },
   "file_extension": ".py",
   "mimetype": "text/x-python",
   "name": "python",
   "nbconvert_exporter": "python",
   "pygments_lexer": "ipython3",
   "version": "3.12.7"
  }
 },
 "nbformat": 4,
 "nbformat_minor": 5
}
