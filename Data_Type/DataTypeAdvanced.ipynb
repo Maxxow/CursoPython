{
 "cells": [
  {
   "cell_type": "markdown",
   "id": "a7cd06bc-726c-43bb-805c-d1ee3f1d9d59",
   "metadata": {},
   "source": [
    "# Tipos de Datos Avanzados"
   ]
  },
  {
   "cell_type": "markdown",
   "id": "56e664bb-815f-44d3-943c-d631132f7d8f",
   "metadata": {},
   "source": [
    "### Listas"
   ]
  },
  {
   "cell_type": "markdown",
   "id": "9d770e82-289c-4855-8fa3-fab9a9d8df75",
   "metadata": {},
   "source": [
    "Las listas de python respresentadas por el tipo *list*, son colecciones ordenadas y **mutables** de elementos que pueden ser de diferentes tipos de datos. Se definen utilizando corchetes [...] y permiten almacenar, acceder, modificar y eliminar elementos de forma flexible"
   ]
  },
  {
   "cell_type": "code",
   "execution_count": 1,
   "id": "a0b8aa5b-32d2-4ec8-a672-8d2e57d63282",
   "metadata": {},
   "outputs": [
    {
     "name": "stdout",
     "output_type": "stream",
     "text": [
      "El valor de a es [1, 2, 3]\n",
      "El valor de b es [4, 5, 6]\n",
      "El valor de c es [1, 2, 3, 4, 5, 6]\n",
      "---------------------------\n",
      "El tipo de dato de a es <class 'list'>\n",
      "El tipo de dato de b es <class 'list'>\n",
      "El tipo de dato de c es <class 'list'>\n"
     ]
    }
   ],
   "source": [
    "a = [1,2,3]\n",
    "b = [4,5,6]\n",
    "c = a + b\n",
    "print(f\"El valor de a es {a}\")\n",
    "print(f\"El valor de b es {b}\")\n",
    "print(f\"El valor de c es {c}\")\n",
    "print(\"---------------------------\")\n",
    "print(f\"El tipo de dato de a es {type(a)}\")\n",
    "print(f\"El tipo de dato de b es {type(b)}\")\n",
    "print(f\"El tipo de dato de c es {type(c)}\")"
   ]
  },
  {
   "cell_type": "code",
   "execution_count": null,
   "id": "7b5dbe5a-1ac2-4c77-8db3-487845bfa117",
   "metadata": {},
   "outputs": [],
   "source": [
    " "
   ]
  }
 ],
 "metadata": {
  "kernelspec": {
   "display_name": "Python 3 (ipykernel)",
   "language": "python",
   "name": "python3"
  },
  "language_info": {
   "codemirror_mode": {
    "name": "ipython",
    "version": 3
   },
   "file_extension": ".py",
   "mimetype": "text/x-python",
   "name": "python",
   "nbconvert_exporter": "python",
   "pygments_lexer": "ipython3",
   "version": "3.12.7"
  }
 },
 "nbformat": 4,
 "nbformat_minor": 5
}
