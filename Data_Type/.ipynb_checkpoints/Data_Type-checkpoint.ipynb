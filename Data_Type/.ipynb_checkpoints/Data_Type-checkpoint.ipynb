{
 "cells": [
  {
   "cell_type": "markdown",
   "id": "f1535cf4-297a-42f7-9ad2-584ed001ea42",
   "metadata": {},
   "source": [
    "# Data Type"
   ]
  },
  {
   "cell_type": "markdown",
   "id": "17a78d3a-fb2d-46c7-af69-2e193319f060",
   "metadata": {},
   "source": [
    "Los programas consisten en codigo y datos, pero internamente en la memoria del ordenador son ismplemente una secuencia de bits. La manera en que estos bits se interpreten depende del lenguaje de programacion, el cual almacena no solo el dato en si, si no tambien varios metadatos. Cada segmento de memoria en realidad contiene un objeto, por lo que se dice en Python todo son objetos. Cada objeto tiene al menos los siguientes componentes:\n",
    "* **Un tipo de dato almacenado:** Indica la naturaleza del dato como entero, cadena, lista, etc. Esto determina las operaciones que se pueden realizar con este objeto. En python, se puede obtener usando la funcion type(), que devuelve el tipo del objeto.\n",
    "* **Un identificador unico para distinguirlo de otros objetos:** Es una referancia unica en la memoria que permite diferenciar este objeto de todos los demas. En python, se pueden obtener usando la funcion id(), que devuelve el tipo del objeto.\n",
    "*  **Un valor que concide con su tipo:** Es el contenido real del objeto, consistencia con su tipo de dato."
   ]
  },
  {
   "cell_type": "code",
   "execution_count": 1,
   "id": "90eedd3a-ecec-4e71-bf4c-0d117b984a0e",
   "metadata": {},
   "outputs": [
    {
     "name": "stdout",
     "output_type": "stream",
     "text": [
      "Tipo de dato: <class 'int'>\n",
      "Identeficador del dato: 9768072\n",
      "Valor del objeto: 42\n",
      "Object original: 42\n"
     ]
    }
   ],
   "source": [
    "# Se va a definir una variable con un valor entero\n",
    "numero = 42\n",
    "\n",
    "# obtener el tipo de dato del objeto numero\n",
    "data_type = type(numero)\n",
    "\n",
    "# Obtener el identificador unico del objeto\n",
    "id_object = id(numero)\n",
    "\n",
    "# Obtener el valor del objeto\n",
    "value = numero\n",
    "\n",
    "# imprimir la informacion obtenida\n",
    "print(f\"Tipo de dato: {data_type}\")\n",
    "print(f\"Identeficador del dato: {id_object}\")\n",
    "print(f\"Valor del objeto: {value}\")\n",
    "print(f\"Object original: {numero}\")"
   ]
  },
  {
   "cell_type": "markdown",
   "id": "bf8ad7ac-566c-4753-b0fd-c0914df3dae9",
   "metadata": {},
   "source": [
    "# Tipos de datos basicos\n",
    "\n",
    "* Enteros\n",
    "* Flotantes\n",
    "* Complejos\n",
    "* Booleanos\n",
    "* Cadenas de caracteres (Strings)"
   ]
  },
  {
   "cell_type": "markdown",
   "id": "43901dc9-03c5-4a09-9358-a95c63ec34d0",
   "metadata": {},
   "source": [
    "# Tipos de datos avanzados\n",
    "* Listas\n",
    "* Tuplas\n",
    "* Conjuntos\n",
    "* Diccionarios\n",
    "  "
   ]
  },
  {
   "cell_type": "code",
   "execution_count": null,
   "id": "a5a5597b-e4e8-4065-a69a-121ad170cdc3",
   "metadata": {},
   "outputs": [],
   "source": []
  }
 ],
 "metadata": {
  "kernelspec": {
   "display_name": "Python 3 (ipykernel)",
   "language": "python",
   "name": "python3"
  },
  "language_info": {
   "codemirror_mode": {
    "name": "ipython",
    "version": 3
   },
   "file_extension": ".py",
   "mimetype": "text/x-python",
   "name": "python",
   "nbconvert_exporter": "python",
   "pygments_lexer": "ipython3",
   "version": "3.12.7"
  }
 },
 "nbformat": 4,
 "nbformat_minor": 5
}
